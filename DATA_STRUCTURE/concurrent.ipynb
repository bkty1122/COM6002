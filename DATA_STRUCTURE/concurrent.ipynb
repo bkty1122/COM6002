{
 "cells": [
  {
   "cell_type": "code",
   "execution_count": null,
   "metadata": {},
   "outputs": [],
   "source": [
    "from time import sleep\n",
    "\n",
    "\n",
    "def a_long_task(id: int, x: int):\n",
    "    \"\"\"\n",
    "    For example, we are downloading data from remote sources.\n",
    "    We need to wait for the server to reply\n",
    "    \"\"\"\n",
    "    sleep(5)  # sleep for 5 seconds\n",
    "    print(f\"Task {id} done\")\n",
    "    return x * 2\n",
    "\n",
    "\n",
    "print(a_long_task(0, 2))"
   ]
  },
  {
   "cell_type": "code",
   "execution_count": null,
   "metadata": {},
   "outputs": [],
   "source": [
    "for id in range(10):\n",
    "    print(a_long_task(id, id))"
   ]
  },
  {
   "cell_type": "code",
   "execution_count": null,
   "metadata": {},
   "outputs": [],
   "source": [
    "import multiprocessing as mp  # This is only required in MacOS\n",
    "from concurrent.futures import ProcessPoolExecutor, as_completed\n",
    "\n",
    "# The mp_context argument is only required in MacOS\n",
    "executor = ProcessPoolExecutor(max_workers=6, mp_context=mp.get_context(\"fork\"))\n",
    "pool = [executor.submit(a_long_task, id, id) for id in range(10)]\n",
    "\n",
    "for task in as_completed(pool):\n",
    "    print(task.result())"
   ]
  }
 ],
 "metadata": {
  "kernelspec": {
   "display_name": "test",
   "language": "python",
   "name": "python3"
  },
  "language_info": {
   "codemirror_mode": {
    "name": "ipython",
    "version": 3
   },
   "file_extension": ".py",
   "mimetype": "text/x-python",
   "name": "python",
   "nbconvert_exporter": "python",
   "pygments_lexer": "ipython3",
   "version": "3.9.7"
  },
  "orig_nbformat": 4
 },
 "nbformat": 4,
 "nbformat_minor": 2
}
