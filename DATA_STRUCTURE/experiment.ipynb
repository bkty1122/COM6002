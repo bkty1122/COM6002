{
 "cells": [
  {
   "cell_type": "code",
   "execution_count": 2,
   "metadata": {},
   "outputs": [],
   "source": [
    "from datetime import datetime\n",
    "from collections import deque\n",
    "from pandas import Series"
   ]
  },
  {
   "attachments": {},
   "cell_type": "markdown",
   "metadata": {},
   "source": [
    "## Experiment 1: set vs list"
   ]
  },
  {
   "cell_type": "code",
   "execution_count": null,
   "metadata": {},
   "outputs": [],
   "source": [
    "data = [2 * i for i in range(1000000)]  # a list with 1M integers\n",
    "\n",
    "start = datetime.now()\n",
    "total = 0\n",
    "for i in data:\n",
    "    if i in data:\n",
    "        total += 1\n",
    "print(total)\n",
    "end = datetime.now()\n",
    "print(end - start)"
   ]
  },
  {
   "cell_type": "code",
   "execution_count": null,
   "metadata": {},
   "outputs": [],
   "source": [
    "sdata = set(data)  # convert the data into a set\n",
    "\n",
    "start = datetime.now()\n",
    "total = 0\n",
    "for i in sdata:\n",
    "    if i in sdata:\n",
    "        total += 1\n",
    "print(total)\n",
    "end = datetime.now()\n",
    "print(end - start)"
   ]
  },
  {
   "cell_type": "code",
   "execution_count": null,
   "metadata": {},
   "outputs": [],
   "source": [
    "# Pay attention to the running time here!\n",
    "\n",
    "start = datetime.now()\n",
    "total = 0\n",
    "for x in data:\n",
    "    if x % 4 == 0:\n",
    "        total += 1\n",
    "print(total)\n",
    "end = datetime.now()\n",
    "print(end - start)"
   ]
  },
  {
   "cell_type": "code",
   "execution_count": null,
   "metadata": {},
   "outputs": [],
   "source": [
    "# Pay attention to the running time here!\n",
    "\n",
    "start = datetime.now()\n",
    "total = 0\n",
    "for x in sdata:\n",
    "    if x % 4 == 0:\n",
    "        total += 1\n",
    "print(total)\n",
    "end = datetime.now()\n",
    "print(end - start)\n",
    "\n",
    "# There is a slight increase in the running time for set. Why?\n",
    "# Hint: recall the illustration about how we store the data on a (physical) notebook. How is the list of data obtained in each case?"
   ]
  },
  {
   "attachments": {},
   "cell_type": "markdown",
   "metadata": {},
   "source": [
    "## Questions\n",
    "\n",
    "1. Which data structure [list vs set] is faster?\n",
    "2. What is the disadvantage?"
   ]
  },
  {
   "attachments": {},
   "cell_type": "markdown",
   "metadata": {},
   "source": [
    "## Experiment 2: list vs queue / stack"
   ]
  },
  {
   "cell_type": "code",
   "execution_count": null,
   "metadata": {},
   "outputs": [],
   "source": [
    "data = [2 * i for i in range(1000000)]  # a list with 1M integers\n",
    "l = len(data)\n",
    "for i in range(l):\n",
    "    data.remove(data[-1])\n",
    "print(data)"
   ]
  },
  {
   "cell_type": "code",
   "execution_count": null,
   "metadata": {},
   "outputs": [],
   "source": [
    "# stack\n",
    "\n",
    "data = [2 * i for i in range(1000000)]  # a list with 1M integers\n",
    "l = len(data)\n",
    "for i in range(l):\n",
    "    data.pop()\n",
    "print(data)"
   ]
  },
  {
   "cell_type": "code",
   "execution_count": null,
   "metadata": {},
   "outputs": [],
   "source": [
    "# queue\n",
    "\n",
    "data = deque([2 * i for i in range(1000000)])  # a list with 1M integers\n",
    "l = len(data)\n",
    "for i in range(l):\n",
    "    data.popleft()\n",
    "print(data)"
   ]
  },
  {
   "attachments": {},
   "cell_type": "markdown",
   "metadata": {},
   "source": [
    "## Experiment 3: pandas vs Python primitives"
   ]
  },
  {
   "cell_type": "code",
   "execution_count": null,
   "metadata": {},
   "outputs": [],
   "source": [
    "col = Series([2 * i for i in range(1000000)])\n",
    "col2 = col.apply(lambda x: x * 4)\n",
    "print(col2.head(5))"
   ]
  },
  {
   "cell_type": "code",
   "execution_count": null,
   "metadata": {},
   "outputs": [],
   "source": [
    "data = [2 * i for i in range(1000000)]\n",
    "data2 = [x * 4 for x in data]\n",
    "print(data2[:5])"
   ]
  },
  {
   "attachments": {},
   "cell_type": "markdown",
   "metadata": {},
   "source": [
    "## Key takeaways\n",
    "\n",
    "1. No solution is perfect\n",
    "2. Use the right tool for the right task"
   ]
  }
 ],
 "metadata": {
  "kernelspec": {
   "display_name": "Python 3",
   "language": "python",
   "name": "python3"
  },
  "language_info": {
   "codemirror_mode": {
    "name": "ipython",
    "version": 3
   },
   "file_extension": ".py",
   "mimetype": "text/x-python",
   "name": "python",
   "nbconvert_exporter": "python",
   "pygments_lexer": "ipython3",
   "version": "3.10.13"
  },
  "orig_nbformat": 4
 },
 "nbformat": 4,
 "nbformat_minor": 2
}
