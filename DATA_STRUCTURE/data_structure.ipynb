{
 "cells": [
  {
   "attachments": {},
   "cell_type": "markdown",
   "metadata": {},
   "source": [
    "## List"
   ]
  },
  {
   "cell_type": "code",
   "execution_count": 1,
   "metadata": {},
   "outputs": [
    {
     "name": "stdout",
     "output_type": "stream",
     "text": [
      "[1, 3, 2, True, 100]\n"
     ]
    }
   ],
   "source": [
    "data = [1, 2, \"hello\", True]  # a list of items\n",
    "data.insert(1, 3)\n",
    "data.append(100)\n",
    "data.remove(\"hello\")\n",
    "print(data)"
   ]
  },
  {
   "attachments": {},
   "cell_type": "markdown",
   "metadata": {},
   "source": [
    "## Set"
   ]
  },
  {
   "cell_type": "code",
   "execution_count": null,
   "metadata": {},
   "outputs": [],
   "source": [
    "data = {1, 2, \"hello\", True}\n",
    "data2 = set()  # alternative way to declare a set\n",
    "data.add(3)\n",
    "data.add(1)  # only one copy for duplicated element\n",
    "data.remove(2)\n",
    "print(data)"
   ]
  },
  {
   "attachments": {},
   "cell_type": "markdown",
   "metadata": {},
   "source": [
    "## Dict (Dictionary)"
   ]
  },
  {
   "cell_type": "code",
   "execution_count": null,
   "metadata": {},
   "outputs": [],
   "source": [
    "data = {\"A\": 10, \"B\": 15, \"C\": 7, \"D\": 5, \"F\": 2}\n",
    "print(data[\"A\"])\n",
    "data[\"U\"] = 2\n",
    "del data[\"F\"]\n",
    "print(data)"
   ]
  },
  {
   "attachments": {},
   "cell_type": "markdown",
   "metadata": {},
   "source": [
    "## Deque"
   ]
  },
  {
   "cell_type": "code",
   "execution_count": null,
   "metadata": {},
   "outputs": [],
   "source": [
    "from collections import deque\n",
    "\n",
    "# Note that we need to import the data structure\n",
    "\n",
    "\n",
    "data = deque([1, 3, 5, 7, 9])\n",
    "data.append(11)\n",
    "data.append(13)\n",
    "data.appendleft(0)\n",
    "print(data)\n",
    "print(data.pop())\n",
    "print(data.popleft())\n",
    "print(data)"
   ]
  },
  {
   "attachments": {},
   "cell_type": "markdown",
   "metadata": {},
   "source": [
    "## Heap"
   ]
  },
  {
   "cell_type": "code",
   "execution_count": null,
   "metadata": {},
   "outputs": [],
   "source": [
    "# Heap uses a list structure, but on top of it, we have heap-related functions to manipulate it\n",
    "# Do not mix heap operations with other list operations. The behavior may be incorrect then\n",
    "\n",
    "from heapq import heappop, heappush, heapify\n",
    "\n",
    "\n",
    "data = []\n",
    "heappush(data, 1)\n",
    "heappush(data, 5)\n",
    "heappush(data, 4)\n",
    "print(heappop(data))\n",
    "print(heappop(data))\n",
    "print(heappop(data))\n",
    "\n",
    "data = []\n",
    "heappush(data, (1, \"Tom\"))\n",
    "heappush(data, (5, \"Mary\"))\n",
    "heappush(data, (4, \"Amy\"))\n",
    "print(heappop(data))\n",
    "print(heappop(data))\n",
    "print(heappop(data))\n",
    "\n",
    "data = [13, 9, 8, 7, 4, 5]\n",
    "heapify(data)\n",
    "print(data)"
   ]
  }
 ],
 "metadata": {
  "kernelspec": {
   "display_name": "test",
   "language": "python",
   "name": "python3"
  },
  "language_info": {
   "codemirror_mode": {
    "name": "ipython",
    "version": 3
   },
   "file_extension": ".py",
   "mimetype": "text/x-python",
   "name": "python",
   "nbconvert_exporter": "python",
   "pygments_lexer": "ipython3",
   "version": "3.9.7"
  },
  "orig_nbformat": 4
 },
 "nbformat": 4,
 "nbformat_minor": 2
}
