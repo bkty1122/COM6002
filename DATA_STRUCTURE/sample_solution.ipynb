{
 "cells": [
  {
   "cell_type": "code",
   "execution_count": null,
   "metadata": {},
   "outputs": [],
   "source": [
    "from heapq import heappop, heappush\n",
    "\n",
    "List = list"
   ]
  },
  {
   "cell_type": "code",
   "execution_count": null,
   "metadata": {},
   "outputs": [],
   "source": [
    "# Keys and Rooms\n",
    "# https://leetcode.com/problems/keys-and-rooms/\n",
    "\n",
    "## Highlights\n",
    "# 1. Use a simple stack to explore the visited rooms\n",
    "# 2. Use a set to remember if a room has been visited\n",
    "\n",
    "\n",
    "class Solution:\n",
    "    def canVisitAllRooms(self, rooms: List[List[int]]) -> bool:\n",
    "        visited = set()\n",
    "        queue = [0]\n",
    "        visited.add(0)\n",
    "        while len(queue) > 0:\n",
    "            x = queue.pop()\n",
    "            for y in rooms[x]:\n",
    "                if y not in visited:\n",
    "                    visited.add(y)\n",
    "                    queue.append(y)\n",
    "            if len(visited) == len(rooms):\n",
    "                return True\n",
    "        return False\n",
    "\n",
    "\n",
    "solution = Solution()\n",
    "print(solution.canVisitAllRooms([[1], [2], [3], []]))"
   ]
  },
  {
   "cell_type": "code",
   "execution_count": null,
   "metadata": {},
   "outputs": [],
   "source": [
    "# Path with Maximum Probability\n",
    "# https://leetcode.com/problems/path-with-maximum-probability/\n",
    "\n",
    "## Highlights\n",
    "# 1. Convert the given edges to a dict for faster access\n",
    "# 2. Use a heap to explore the edge with the highest probability (we use -1 * probability here as Python heap is ascending order by default)\n",
    "\n",
    "\n",
    "class Solution:\n",
    "    def maxProbability(\n",
    "        self,\n",
    "        n: int,\n",
    "        edges: List[List[int]],\n",
    "        succProb: List[float],\n",
    "        start: int,\n",
    "        end: int,\n",
    "    ) -> float:\n",
    "        path: dict[int, dict[int, float]] = {}\n",
    "        for index, [u, v] in enumerate(edges):\n",
    "            if u not in path:\n",
    "                path[u] = {}\n",
    "            if v not in path:\n",
    "                path[v] = {}\n",
    "            path[u][v] = succProb[index]\n",
    "            path[v][u] = succProb[index]\n",
    "        queue: list[tuple[float, int]] = [(-1, start)]\n",
    "        visited = set()\n",
    "        while len(queue) > 0:\n",
    "            p, u = heappop(queue)\n",
    "            if u == end:\n",
    "                return -p\n",
    "            if u not in visited and u in path:\n",
    "                visited.add(u)\n",
    "                for x in path[u]:\n",
    "                    if x not in visited:\n",
    "                        heappush(queue, (p * path[u][x], x))\n",
    "        return 0\n",
    "\n",
    "\n",
    "solution = Solution()\n",
    "print(solution.maxProbability(3, [[0, 1], [1, 2], [0, 2]], [0.5, 0.5, 0.2], 0, 2))"
   ]
  }
 ],
 "metadata": {
  "kernelspec": {
   "display_name": "Python 3.9.7 ('test')",
   "language": "python",
   "name": "python3"
  },
  "language_info": {
   "codemirror_mode": {
    "name": "ipython",
    "version": 3
   },
   "file_extension": ".py",
   "mimetype": "text/x-python",
   "name": "python",
   "nbconvert_exporter": "python",
   "pygments_lexer": "ipython3",
   "version": "3.10.10"
  },
  "orig_nbformat": 4,
  "vscode": {
   "interpreter": {
    "hash": "a8aac0b6a3e67f35bcd67088a857342b2a6b50e1135570ee0f841fb10732c056"
   }
  }
 },
 "nbformat": 4,
 "nbformat_minor": 2
}
